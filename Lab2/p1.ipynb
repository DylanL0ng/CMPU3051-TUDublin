{
 "cells": [
  {
   "cell_type": "code",
   "execution_count": 1,
   "id": "7dc995e0-15c1-47b2-a704-c572a0b34fcb",
   "metadata": {},
   "outputs": [
    {
     "name": "stdout",
     "output_type": "stream",
     "text": [
      "[4 2 6 1] \n",
      " [0.95022357 0.52335828 0.8545647  0.376463  ]\n"
     ]
    }
   ],
   "source": [
    "import numpy as np\n",
    "\n",
    "v1 = np.array([4,2,6,1])\n",
    "v2 = np.random.rand(4)\n",
    "\n",
    "print(v1, \"\\n\", v2)"
   ]
  },
  {
   "cell_type": "code",
   "execution_count": 2,
   "id": "6e93afdc-02fa-455b-bf3b-3eb562a77dec",
   "metadata": {},
   "outputs": [],
   "source": [
    "w = [x**2 for x in v1]"
   ]
  },
  {
   "cell_type": "code",
   "execution_count": 3,
   "id": "529ca464-e463-4c3d-a892-5da6939521bf",
   "metadata": {},
   "outputs": [
    {
     "data": {
      "text/plain": [
       "[16, 4, 36, 1]"
      ]
     },
     "execution_count": 3,
     "metadata": {},
     "output_type": "execute_result"
    }
   ],
   "source": [
    "w"
   ]
  },
  {
   "cell_type": "code",
   "execution_count": 4,
   "id": "0b1ed388-00c4-4d53-aafe-8fe14e29fb39",
   "metadata": {},
   "outputs": [
    {
     "data": {
      "text/plain": [
       "(4,)"
      ]
     },
     "execution_count": 4,
     "metadata": {},
     "output_type": "execute_result"
    }
   ],
   "source": [
    "v1.shape"
   ]
  },
  {
   "cell_type": "code",
   "execution_count": 5,
   "id": "e5144348-1b41-4766-bc60-80d03e090196",
   "metadata": {},
   "outputs": [
    {
     "name": "stdout",
     "output_type": "stream",
     "text": [
      "4\n",
      "[0. 0. 0. 0.]\n",
      "[16.  4. 36.  1.]\n",
      "[16  4 36  1]\n"
     ]
    }
   ],
   "source": [
    "n, = v1.shape\n",
    "print(n)\n",
    "v3 = np.zeros(n)\n",
    "print(v3)\n",
    "for j in range(n):\n",
    "    v3[j] = v1[j]**2\n",
    "print(v3)\n",
    "v4 = v1**2\n",
    "print(v4)"
   ]
  },
  {
   "cell_type": "code",
   "execution_count": null,
   "id": "6fc5917c-dacb-4d42-ac21-f374f8b7732a",
   "metadata": {},
   "outputs": [],
   "source": []
  }
 ],
 "metadata": {
  "kernelspec": {
   "display_name": "Python 3 (ipykernel)",
   "language": "python",
   "name": "python3"
  },
  "language_info": {
   "codemirror_mode": {
    "name": "ipython",
    "version": 3
   },
   "file_extension": ".py",
   "mimetype": "text/x-python",
   "name": "python",
   "nbconvert_exporter": "python",
   "pygments_lexer": "ipython3",
   "version": "3.9.6"
  }
 },
 "nbformat": 4,
 "nbformat_minor": 5
}
