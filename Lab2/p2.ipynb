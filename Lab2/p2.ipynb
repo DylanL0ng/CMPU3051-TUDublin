{
 "cells": [
  {
   "cell_type": "code",
   "execution_count": 2,
   "id": "2e993ae5-3837-4775-8be4-679d19d2b894",
   "metadata": {},
   "outputs": [
    {
     "name": "stdout",
     "output_type": "stream",
     "text": [
      "(4,) (4,)\n",
      "[1 2 3 4] [2 3 0 1]\n"
     ]
    }
   ],
   "source": [
    "import numpy as np\n",
    "\n",
    "u = np.array([1,2,3,4])\n",
    "v = np.array([2,3,0,1])\n",
    "\n",
    "print(u.shape, v.shape)\n",
    "print(u, v)"
   ]
  },
  {
   "cell_type": "code",
   "execution_count": 3,
   "id": "e8a2532a-3ef7-4a09-996c-d390790cf4c7",
   "metadata": {},
   "outputs": [
    {
     "name": "stdout",
     "output_type": "stream",
     "text": [
      "[2 6 0 4] 12\n"
     ]
    }
   ],
   "source": [
    "print(u*v, u.dot(v))"
   ]
  },
  {
   "cell_type": "code",
   "execution_count": 4,
   "id": "158e70aa-7fdc-41bf-af95-46fb32dc1de8",
   "metadata": {},
   "outputs": [
    {
     "name": "stdout",
     "output_type": "stream",
     "text": [
      "(4, 1) \n",
      "\n",
      "[[1]\n",
      " [2]\n",
      " [3]\n",
      " [4]]\n"
     ]
    }
   ],
   "source": [
    "cu = u.reshape(4,1)\n",
    "print(cu.shape, \"\\n\")\n",
    "print(cu)"
   ]
  },
  {
   "cell_type": "code",
   "execution_count": 5,
   "id": "fe785fff-4139-412b-bc01-9b5f8dd0c26a",
   "metadata": {},
   "outputs": [
    {
     "name": "stdout",
     "output_type": "stream",
     "text": [
      "[[ 2  3  0  1]\n",
      " [ 4  6  0  2]\n",
      " [ 6  9  0  3]\n",
      " [ 8 12  0  4]]\n"
     ]
    }
   ],
   "source": [
    "print(cu * v)"
   ]
  },
  {
   "cell_type": "code",
   "execution_count": 6,
   "id": "175be317-3afd-4bfc-bbad-e39477bebd5e",
   "metadata": {},
   "outputs": [
    {
     "name": "stdout",
     "output_type": "stream",
     "text": [
      "[[1 2]\n",
      " [3 4]] \n",
      "\n",
      " [[ 2  1]\n",
      " [-2  3]]\n"
     ]
    }
   ],
   "source": [
    "m1 = np.array([[1,2], [3,4]])\n",
    "m2 = np.array([[2, 1],[-2, 3]])\n",
    "\n",
    "print(m1, \"\\n\\n\", m2)"
   ]
  },
  {
   "cell_type": "code",
   "execution_count": 7,
   "id": "38f80c89-1a80-47a0-af13-05bb34100883",
   "metadata": {},
   "outputs": [
    {
     "name": "stdout",
     "output_type": "stream",
     "text": [
      "[[ 2  2]\n",
      " [-6 12]] \n",
      "\n",
      " [[-2  7]\n",
      " [-2 15]]\n"
     ]
    }
   ],
   "source": [
    "print(m1*m2, \"\\n\\n\", m1.dot(m2))"
   ]
  },
  {
   "cell_type": "code",
   "execution_count": 8,
   "id": "8ae13926-12b1-426d-919a-ac27171d90f6",
   "metadata": {},
   "outputs": [],
   "source": [
    "a = np.array([\n",
    "    [1,0,0,0],\n",
    "    [0,1,1,0],\n",
    "    [0,0,1,2]\n",
    "])"
   ]
  },
  {
   "cell_type": "code",
   "execution_count": 9,
   "id": "679ceeff-ed3c-471e-8856-5315083860df",
   "metadata": {},
   "outputs": [
    {
     "name": "stdout",
     "output_type": "stream",
     "text": [
      "[ 1  5 11] \n",
      "\n",
      "[[ 1]\n",
      " [ 5]\n",
      " [11]]\n"
     ]
    }
   ],
   "source": [
    "print(a.dot(u), \"\\n\")\n",
    "print(a.dot(cu))"
   ]
  },
  {
   "cell_type": "code",
   "execution_count": 10,
   "id": "c6ced564-15db-448e-9030-2a48a140487d",
   "metadata": {},
   "outputs": [
    {
     "name": "stdout",
     "output_type": "stream",
     "text": [
      "[[1 0 0 0]\n",
      " [0 1 1 0]\n",
      " [0 0 1 2]] \n",
      "\n",
      "\n",
      " [[ 3  1]\n",
      " [ 2  2]\n",
      " [ 1  3]\n",
      " [ 1 11]]\n"
     ]
    }
   ],
   "source": [
    "b = np.array([ [3,1], [2,2], [1,3], [1,11]])\n",
    "print(a, \"\\n\\n\\n\", b)"
   ]
  },
  {
   "cell_type": "code",
   "execution_count": 11,
   "id": "59367d86-5d41-4ace-8ac2-3fe4685146d4",
   "metadata": {},
   "outputs": [
    {
     "name": "stdout",
     "output_type": "stream",
     "text": [
      "[[ 3  1]\n",
      " [ 3  5]\n",
      " [ 3 25]]\n"
     ]
    }
   ],
   "source": [
    "print(a.dot(b))"
   ]
  },
  {
   "cell_type": "code",
   "execution_count": 12,
   "id": "4eedca7f-e89c-42bd-9706-64c34cfe5e48",
   "metadata": {},
   "outputs": [
    {
     "data": {
      "text/plain": [
       "array([[1, 0, 0],\n",
       "       [0, 1, 0],\n",
       "       [0, 1, 1],\n",
       "       [0, 0, 2]])"
      ]
     },
     "execution_count": 12,
     "metadata": {},
     "output_type": "execute_result"
    }
   ],
   "source": [
    "a.T"
   ]
  },
  {
   "cell_type": "code",
   "execution_count": 13,
   "id": "fa950e2d-992d-4b34-ad25-a077e4f55184",
   "metadata": {},
   "outputs": [
    {
     "name": "stdout",
     "output_type": "stream",
     "text": [
      "(3, 4) (4, 3)\n"
     ]
    }
   ],
   "source": [
    "print(a.shape, a.T.shape)"
   ]
  },
  {
   "cell_type": "code",
   "execution_count": 14,
   "id": "828f76a0-2ee3-4ee8-afb9-41a8ac443573",
   "metadata": {},
   "outputs": [
    {
     "name": "stdout",
     "output_type": "stream",
     "text": [
      "[[1 0 0 0]\n",
      " [0 1 1 0]\n",
      " [0 0 1 2]]\n"
     ]
    }
   ],
   "source": [
    "print(a)"
   ]
  },
  {
   "cell_type": "code",
   "execution_count": 15,
   "id": "bf3f5026-9de1-4f4d-bbdb-5bb104f3e3f4",
   "metadata": {},
   "outputs": [
    {
     "data": {
      "text/plain": [
       "array([ 1,  5, 11])"
      ]
     },
     "execution_count": 15,
     "metadata": {},
     "output_type": "execute_result"
    }
   ],
   "source": [
    "u.dot(a.T)"
   ]
  },
  {
   "cell_type": "code",
   "execution_count": 16,
   "id": "1cfbda20-de39-4230-926d-98ba89af5688",
   "metadata": {},
   "outputs": [
    {
     "name": "stdout",
     "output_type": "stream",
     "text": [
      "[[0 0 0 0]\n",
      " [0 0 0 0]\n",
      " [0 0 0 0]]\n"
     ]
    }
   ],
   "source": [
    "(m,n) = a.shape\n",
    "c = np.zeros((m,n), \"int32\")\n",
    "print(c)"
   ]
  },
  {
   "cell_type": "code",
   "execution_count": 17,
   "id": "e83935fc-7250-4a53-a9d8-28015491b167",
   "metadata": {},
   "outputs": [
    {
     "name": "stdout",
     "output_type": "stream",
     "text": [
      "[[2 0 0 0]\n",
      " [0 2 2 0]\n",
      " [0 0 2 4]]\n"
     ]
    }
   ],
   "source": [
    "for i in range(m):\n",
    "    for j in range(n):\n",
    "        c[i,j] = a[i,j]*2\n",
    "\n",
    "print(c)"
   ]
  },
  {
   "cell_type": "code",
   "execution_count": 18,
   "id": "c6b40a9c-830c-4eb4-9e0a-dadfd0a2bd5a",
   "metadata": {},
   "outputs": [
    {
     "name": "stdout",
     "output_type": "stream",
     "text": [
      "[[2 0 0 0]\n",
      " [0 2 2 0]\n",
      " [0 0 2 4]]\n"
     ]
    }
   ],
   "source": [
    "print(a*2)"
   ]
  },
  {
   "cell_type": "code",
   "execution_count": 19,
   "id": "fdd5d226-3510-48f6-9041-a7cd6a304137",
   "metadata": {},
   "outputs": [
    {
     "name": "stdout",
     "output_type": "stream",
     "text": [
      "\n",
      "R and C are  3 4\n",
      "[[3 0 0 0]\n",
      " [0 2 1 0]\n",
      " [0 0 1 6]]\n"
     ]
    }
   ],
   "source": [
    "def multiply_matrix_by_vector(m, v):\n",
    "    R,C = m.shape\n",
    "    n, = v.shape\n",
    "\n",
    "    print(\"\\nR and C are \", R, C)\n",
    "\n",
    "    if C!=n:\n",
    "        print(\"\\n array and vector shapes not matching\\n\")\n",
    "        return None\n",
    "\n",
    "    u = np.zeros((R,C), \"int32\")\n",
    "\n",
    "    for i in range(R):\n",
    "        for j in range(C):\n",
    "            u[i,j] = m[i,j]*v[j]\n",
    "\n",
    "    return u\n",
    "\n",
    "print(multiply_matrix_by_vector(a, np.array([3, 2, 1, 3])))"
   ]
  },
  {
   "cell_type": "code",
   "execution_count": 23,
   "id": "da453854-1f68-4421-b230-fbb1cda3a972",
   "metadata": {},
   "outputs": [
    {
     "name": "stdout",
     "output_type": "stream",
     "text": [
      "[[ 3.  1.]\n",
      " [ 3.  5.]\n",
      " [ 3. 25.]]\n"
     ]
    }
   ],
   "source": [
    "def multiply_matrices(a, b):\n",
    "    R, C1 = a.shape\n",
    "    R1, C = b.shape\n",
    "\n",
    "    if C1 != R1:\n",
    "        print(\"\\nArray shapes not matching for multiplication\\n\")\n",
    "        return None\n",
    "\n",
    "    c = np.zeros((R, C))\n",
    "\n",
    "    for i in range(R):\n",
    "        for j in range(C):\n",
    "            for k in range(C1):\n",
    "                c[i, j] += a[i, k] * b[k, j]\n",
    "    return c\n",
    "\n",
    "print(multiply_matrices(a, b))"
   ]
  },
  {
   "cell_type": "code",
   "execution_count": 21,
   "id": "069607a3",
   "metadata": {},
   "outputs": [
    {
     "name": "stdout",
     "output_type": "stream",
     "text": [
      "[60 72 84]\n"
     ]
    }
   ],
   "source": [
    "def f(x, matrices):\n",
    "    y = x\n",
    "    for m in matrices:\n",
    "        y = np.dot(y, m)\n",
    "\n",
    "    return  y\n",
    "\n",
    "x = np.array([1, 2, 3])\n",
    "matrices = [np.array([[2, 0, 0], [0, 2, 0], [0, 0, 2]]), np.array([[1, 2, 3], [4, 5, 6], [7, 8, 9]])]\n",
    "\n",
    "print(f(x, matrices))"
   ]
  }
 ],
 "metadata": {
  "kernelspec": {
   "display_name": "Python 3 (ipykernel)",
   "language": "python",
   "name": "python3"
  },
  "language_info": {
   "codemirror_mode": {
    "name": "ipython",
    "version": 3
   },
   "file_extension": ".py",
   "mimetype": "text/x-python",
   "name": "python",
   "nbconvert_exporter": "python",
   "pygments_lexer": "ipython3",
   "version": "3.9.6"
  }
 },
 "nbformat": 4,
 "nbformat_minor": 5
}
